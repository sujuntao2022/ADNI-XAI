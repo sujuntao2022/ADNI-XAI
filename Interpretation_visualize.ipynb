{
 "cells": [
  {
   "cell_type": "code",
   "execution_count": 1,
   "id": "28685acb-94b4-444a-923a-fbf730d3b16a",
   "metadata": {},
   "outputs": [],
   "source": [
    "import torch\n",
    "import torch.nn as nn\n",
    "from torchvision.models.video import r3d_18\n",
    "import nibabel as nib\n",
    "import numpy as np\n",
    "from lime import lime_image\n",
    "from skimage.color import gray2rgb\n",
    "import pandas as pd\n",
    "import random"
   ]
  },
  {
   "cell_type": "code",
   "execution_count": 2,
   "id": "ae4e3f36-099f-4ece-8208-92576d6374a8",
   "metadata": {},
   "outputs": [
    {
     "name": "stdout",
     "output_type": "stream",
     "text": [
      "Using device: cuda\n"
     ]
    }
   ],
   "source": [
    "class SEBlock(nn.Module):\n",
    "    def __init__(self, input_dim, reduction=16):\n",
    "        super(SEBlock, self).__init__()\n",
    "        self.avg_pool = nn.AdaptiveAvgPool3d(1)\n",
    "        self.fc = nn.Sequential(\n",
    "            nn.Linear(input_dim, input_dim // reduction, bias=False),\n",
    "            nn.ReLU(inplace=True),\n",
    "            nn.Linear(input_dim // reduction, input_dim, bias=False),\n",
    "            nn.Sigmoid()\n",
    "        )\n",
    "\n",
    "    def forward(self, x):\n",
    "        b, c, _, _, _ = x.size()\n",
    "        y = self.avg_pool(x).view(b, c)\n",
    "        y = self.fc(y).view(b, c, 1, 1, 1)\n",
    "        self.saved_attention = y\n",
    "        return x * y.expand_as(x)\n",
    "\n",
    "class SEBasicBlock(nn.Module):\n",
    "    expansion = 1\n",
    "\n",
    "    def __init__(self, inplanes, planes, stride=1, downsample=None):\n",
    "        super(SEBasicBlock, self).__init__()\n",
    "        self.conv1 = nn.Conv3d(inplanes, planes, kernel_size=3, stride=stride, padding=1, bias=False)\n",
    "        self.bn1 = nn.BatchNorm3d(planes)\n",
    "        self.relu = nn.ReLU(inplace=True)\n",
    "        self.conv2 = nn.Conv3d(planes, planes, kernel_size=3, padding=1, bias=False)\n",
    "        self.bn2 = nn.BatchNorm3d(planes)\n",
    "        self.se_block = SEBlock(planes * self.expansion)\n",
    "        self.downsample = downsample\n",
    "        self.stride = stride\n",
    "\n",
    "    def forward(self, x):\n",
    "        identity = x\n",
    "\n",
    "        out = self.conv1(x)\n",
    "        out = self.bn1(out)\n",
    "        out = self.relu(out)\n",
    "\n",
    "        out = self.conv2(out)\n",
    "        out = self.bn2(out)\n",
    "\n",
    "        # Apply SE block\n",
    "        out = self.se_block(out)\n",
    "\n",
    "        if self.downsample is not None:\n",
    "            identity = self.downsample(x)\n",
    "\n",
    "        out += identity\n",
    "        out = self.relu(out)\n",
    "\n",
    "        return out\n",
    "\n",
    "    def get_attention_weight(self):\n",
    "        return self.se_block.saved_attention\n",
    "\n",
    "# Load the pre-built 3D ResNet model\n",
    "model = r3d_18(pretrained=True, progress=True)\n",
    "\n",
    "# Replace the first convolution layer for single-channel input\n",
    "model.stem[0] = nn.Conv3d(1, 64, kernel_size=(3, 7, 7), stride=(1, 2, 2), padding=(1, 3, 3), bias=False)\n",
    "\n",
    "# Replace existing blocks with SEBasicBlock\n",
    "def make_layer(block, inplanes, planes, blocks, stride=1):\n",
    "    downsample = None\n",
    "    if stride != 1 or inplanes != planes * block.expansion:\n",
    "        downsample = nn.Sequential(\n",
    "            nn.Conv3d(inplanes, planes * block.expansion, kernel_size=1, stride=stride, bias=False),\n",
    "            nn.BatchNorm3d(planes * block.expansion),\n",
    "        )\n",
    "\n",
    "    layers = []\n",
    "    layers.append(block(inplanes, planes, stride, downsample))\n",
    "    inplanes = planes * block.expansion\n",
    "    for _ in range(1, blocks):\n",
    "        layers.append(block(inplanes, planes))\n",
    "\n",
    "    return nn.Sequential(*layers)\n",
    "\n",
    "# if you want 18 layers, use the following\n",
    "model.layer1 = make_layer(SEBasicBlock, 64, 64, 2)\n",
    "model.layer2 = make_layer(SEBasicBlock, 64, 128, 2, stride=2)\n",
    "model.layer3 = make_layer(SEBasicBlock, 128, 256, 2, stride=2)\n",
    "model.layer4 = make_layer(SEBasicBlock, 256, 512, 2, stride=2)\n",
    "\n",
    "# if you want 9 layers, use the following\n",
    "# model.layer1 = make_layer(SEBasicBlock, 64, 64, 1) \n",
    "# model.layer2 = make_layer(SEBasicBlock, 64, 128, 1, stride=2)  \n",
    "# model.layer3 = make_layer(SEBasicBlock, 128, 256, 1, stride=2) \n",
    "# model.layer4 = make_layer(SEBasicBlock, 256, 512, 1, stride=2)  \n",
    "\n",
    "# Replace the fully connected layer for specific output size\n",
    "model.fc = nn.Linear(in_features=model.fc.in_features, out_features=3)\n",
    "\n",
    "# Move the model to the appropriate device (GPU or CPU)\n",
    "device = torch.device(\"cuda\" if torch.cuda.is_available() else \"cpu\")\n",
    "model = model.to(device)\n",
    "\n",
    "print(\"Using device:\", device)\n"
   ]
  },
  {
   "cell_type": "code",
   "execution_count": 3,
   "id": "220a43c4-3119-4e9e-944d-befa2bc16af8",
   "metadata": {},
   "outputs": [
    {
     "data": {
      "text/plain": [
       "<All keys matched successfully>"
      ]
     },
     "execution_count": 3,
     "metadata": {},
     "output_type": "execute_result"
    }
   ],
   "source": [
    "weights_path = r'D:\\Work\\Python_code\\Medical_image\\1126\\model_weights_epoch_30.pth'\n",
    "model.load_state_dict(torch.load(weights_path))"
   ]
  },
  {
   "cell_type": "code",
   "execution_count": 4,
   "id": "b3473f2a-41cb-4ac5-a915-5dbe172b43d6",
   "metadata": {},
   "outputs": [
    {
     "name": "stdout",
     "output_type": "stream",
     "text": [
      "tensor([[ 0.8887, -0.3520, -2.1186]], device='cuda:0',\n",
      "       grad_fn=<AddmmBackward0>)\n"
     ]
    }
   ],
   "source": [
    "file_path = r'D:\\Work\\Medical image\\2023\\auto_noCCseg\\041_S_6226.nii'  # Please replace with your file path\n",
    "mri_image = nib.load(file_path)\n",
    "image_data = mri_image.get_fdata()\n",
    "image_data_torch=torch.tensor(image_data[np.newaxis,np.newaxis, ...], dtype=torch.float32).to(device)\n",
    "output = model(image_data_torch)\n",
    "print(output)"
   ]
  },
  {
   "cell_type": "code",
   "execution_count": 5,
   "id": "a4b274b0-a4f5-4c42-b5da-0dc15100fb90",
   "metadata": {},
   "outputs": [],
   "source": [
    "import numpy as np\n",
    "import torch\n",
    "from sklearn.linear_model import LinearRegression\n",
    "\n",
    "def predict(model, data):\n",
    "    \"\"\"\n",
    "    使用模型进行预测的函数。\n",
    "    \"\"\"\n",
    "    data_torch=torch.tensor(data[np.newaxis,np.newaxis, ...], dtype=torch.float32).to(device)\n",
    "    with torch.no_grad():\n",
    "        return model(data_torch).detach().to('cpu').numpy()\n",
    "\n",
    "def generate_perturbations(data, mask,model,num_samples=50,method='shaded'):\n",
    "    \"\"\"\n",
    "    生成扰动样本。\n",
    "    \"\"\"\n",
    "    num_regions = int(np.max(mask))  # 假设区域编号从1到最大值\n",
    "    Y = []\n",
    "    X = []\n",
    "\n",
    "    for _ in range(num_samples):\n",
    "        # 随机选择一半区域进行扰动\n",
    "        region_to_perturb = random.sample(range(1, num_regions), int(num_regions/2))\n",
    "        result_array = np.ones(num_regions, dtype=int)\n",
    "        for index in region_to_perturb:\n",
    "            if 0 <= index < len(result_array):\n",
    "                result_array[index] = 0\n",
    "        X.append(result_array)\n",
    "\n",
    "        # 生成扰动\n",
    "        perturbed_sample = np.copy(data)\n",
    "        if method=='noise':\n",
    "            perturbation = np.random.normal(0, 0.1, data.shape)\n",
    "            for region in region_to_perturb:\n",
    "                perturbed_sample[mask == region] += np.random.normal(0,0.1,perturbed_sample[mask == region].shape)\n",
    "        elif method=='shaded':\n",
    "            for region in region_to_perturb:\n",
    "                perturbed_sample[mask == region] =0\n",
    "                \n",
    "        Y.append(predict(model,perturbed_sample)[0])\n",
    "    \n",
    "    return X, Y"
   ]
  },
  {
   "cell_type": "code",
   "execution_count": 6,
   "id": "dff667bb-b7f1-4992-9b3b-35dff7587c88",
   "metadata": {},
   "outputs": [
    {
     "name": "stdout",
     "output_type": "stream",
     "text": [
      "[-0.0001531   0.0090309   0.00417644  0.01196736 -0.00044701  0.00705852\n",
      " -0.00086322  0.00482881 -0.00756557  0.00148679 -0.00603336  0.00369687\n",
      "  0.00998938  0.01465857 -0.00335784 -0.00863095 -0.00314325  0.00759892\n",
      "  0.00325103 -0.00922765 -0.00943512  0.00054791  0.01129126 -0.00980141\n",
      " -0.01070589 -0.02592804 -0.0073164   0.00171692  0.00654171 -0.01471432\n",
      "  0.00412181  0.00029425 -0.00222767  0.00118759  0.01215017  0.01109202\n",
      " -0.00140846  0.01041882  0.00893383 -0.00929048 -0.02059968  0.02930951\n",
      " -0.00238649 -0.00950833 -0.00142102  0.02987966 -0.00412303  0.00047301\n",
      " -0.00029684  0.0007025   0.00093226  0.00122392 -0.0161534   0.0079293\n",
      " -0.00412292 -0.00416289  0.01036242  0.0068552  -0.00835309 -0.0018055\n",
      "  0.01066877 -0.01977952  0.00238866  0.00525069 -0.01127179 -0.01262105\n",
      "  0.01148671  0.00666766  0.01066496  0.00127394 -0.00813597  0.00449702\n",
      " -0.01090259 -0.01719446 -0.01867691  0.01004231  0.00449214]\n",
      "[ 0.00022556 -0.00611749 -0.00278349 -0.00822475  0.00101083 -0.00575305\n",
      "  0.00016553 -0.00319692  0.00503285 -0.00128016  0.00212213 -0.00318658\n",
      " -0.00665927 -0.00957365  0.00147719  0.00525684  0.00186706 -0.00498821\n",
      " -0.00054271  0.00485841  0.00701864  0.00035308 -0.00625534  0.00436149\n",
      "  0.00625063  0.01699112  0.00557852 -0.00277431 -0.00472573  0.01018193\n",
      " -0.00213667 -0.00035153  0.00012282 -0.00263222 -0.00871665 -0.00737894\n",
      "  0.00179432 -0.00703267 -0.00443026  0.00749891  0.01097007 -0.0210474\n",
      "  0.0078168   0.00593284  0.00131244 -0.01866379  0.00271629 -0.00122787\n",
      "  0.00057922 -0.0003862  -0.00032642  0.0009969   0.0108162  -0.00509791\n",
      "  0.003345    0.0028811  -0.0066405  -0.00486196  0.00539426  0.0007233\n",
      " -0.00771577  0.01292313 -0.00277591 -0.0028278   0.00742112  0.00805059\n",
      " -0.00845705 -0.00358978 -0.00716315 -0.00010356  0.00448459 -0.00089518\n",
      "  0.00910357  0.01158124  0.01120668 -0.0064928  -0.00248925]\n",
      "[-1.73124130e-03 -1.60021709e-02 -9.03445346e-03 -2.67875416e-02\n",
      " -2.75472664e-02 -1.62544478e-02  9.73672257e-03 -2.46998057e-02\n",
      "  1.42869418e-02 -2.31735946e-02  2.44641674e-02 -1.55298358e-02\n",
      " -3.45916801e-02 -3.28610263e-02  1.88754360e-02  3.26571910e-02\n",
      "  1.00786532e-02 -2.67270534e-02 -1.49413439e-02  1.32822759e-02\n",
      "  2.02567737e-02 -3.79930923e-03 -4.79613362e-02  4.79420237e-02\n",
      "  5.57199184e-02  8.15447897e-02  2.49213744e-02 -1.36406965e-02\n",
      " -1.97758154e-02  5.01626522e-02 -3.73238871e-02  8.04527483e-03\n",
      "  2.99948662e-03  3.18491656e-02 -2.97698290e-02 -2.28044164e-02\n",
      " -4.52703290e-03 -2.66737638e-02 -3.50494168e-02  3.32667302e-02\n",
      "  8.00587478e-02 -6.64997766e-02  2.78183394e-03  4.45717390e-02\n",
      "  1.78722661e-04 -9.37991580e-02 -8.42787450e-03  6.50290074e-03\n",
      "  2.10755857e-02 -6.35513730e-03  4.65329426e-03 -2.21524437e-02\n",
      "  2.60232235e-02 -2.54861438e-02  1.77859449e-02  2.66720571e-05\n",
      " -1.62473449e-02 -2.06913468e-02  3.78559527e-02 -3.72811028e-04\n",
      " -3.87282571e-02  3.72482907e-02  9.00864330e-03 -2.19497434e-02\n",
      "  3.21622830e-02  2.98623958e-02 -2.26017709e-02 -1.92613252e-02\n",
      " -1.59317317e-02 -1.79316955e-02  2.60628647e-03 -1.20539965e-02\n",
      "  3.76766365e-02  4.26940556e-02  7.37871873e-02 -4.86614623e-02\n",
      " -2.53548523e-02]\n"
     ]
    }
   ],
   "source": [
    "input_data = image_data\n",
    "X, Y = generate_perturbations(input_data,input_data,model, 50,'shaded')\n",
    "Y=np.array(Y)\n",
    "\n",
    "\n",
    "regressor0 = LinearRegression()\n",
    "regressor1 = LinearRegression()\n",
    "regressor2 = LinearRegression()\n",
    "regressor0.fit(X, Y[:,0])\n",
    "regressor1.fit(X, Y[:,1])\n",
    "regressor2.fit(X, Y[:,2])\n",
    "\n",
    "print(regressor0.coef_)\n",
    "print(regressor1.coef_)\n",
    "print(regressor2.coef_)"
   ]
  },
  {
   "cell_type": "code",
   "execution_count": 7,
   "id": "65a7ea68-fe37-4f5d-9dcb-aca78ae1d8fc",
   "metadata": {},
   "outputs": [],
   "source": [
    "pd.DataFrame([regressor0.coef_,regressor1.coef_,regressor2.coef_],columns=range(1,78)).to_csv(r'D:\\Work\\Medical image\\2023\\Lime_result\\041_S_6226_shaded.csv')"
   ]
  },
  {
   "cell_type": "code",
   "execution_count": 27,
   "id": "2704c680-32c1-4685-845a-42bbd570b2a3",
   "metadata": {},
   "outputs": [
    {
     "data": {
      "image/png": "[encoded data removed]",
      "text/plain": [
       "<Figure size 1080x360 with 3 Axes>"
      ]
     },
     "metadata": {
      "needs_background": "light"
     },
     "output_type": "display_data"
    }
   ],
   "source": [
    "import matplotlib.pyplot as plt\n",
    "\n",
    "def normalize_11(array):\n",
    "    return 2 * (array - array.min()) / (array.max() - array.min()) - 1\n",
    "\n",
    "def get_interpretation(mri_image,array):\n",
    "    normalized_array = normalize_11(array)\n",
    "    for i in range(len(normalized_array)):\n",
    "        mri_image[mri_image == i+1] = normalized_array[i]\n",
    "    \n",
    "    return mri_image\n",
    "\n",
    "mri_image = nib.load(file_path)\n",
    "image_data = mri_image.get_fdata()\n",
    "mri_image=get_interpretation(image_data,regressor0.coef_)\n",
    "\n",
    "slice1 = mri_image[mri_image.shape[0] // 2, :, :]\n",
    "slice2 = mri_image[:, mri_image.shape[1] // 2, :]\n",
    "slice3 = mri_image[:, :, mri_image.shape[2] // 2]\n",
    "\n",
    "cmap = plt.cm.bwr\n",
    "\n",
    "# Plot the slices\n",
    "fig, axes = plt.subplots(1, 3, figsize=(15, 5))\n",
    "axes[0].imshow(slice1, cmap=cmap)\n",
    "axes[0].set_title('Slice 1')\n",
    "axes[1].imshow(slice2, cmap=cmap)\n",
    "axes[1].set_title('Slice 2')\n",
    "axes[2].imshow(slice3, cmap=cmap)\n",
    "axes[2].set_title('Slice 3')\n",
    "plt.show()"
   ]
  },
  {
   "cell_type": "code",
   "execution_count": 28,
   "id": "40ed454b-7ee7-4240-93cc-b58615082491",
   "metadata": {},
   "outputs": [
    {
     "data": {
      "image/png": "[encoded data removed]",
      "text/plain": [
       "<Figure size 1080x360 with 3 Axes>"
      ]
     },
     "metadata": {
      "needs_background": "light"
     },
     "output_type": "display_data"
    }
   ],
   "source": [
    "import matplotlib.pyplot as plt\n",
    "\n",
    "def normalize_11(array):\n",
    "    return 2 * (array - array.min()) / (array.max() - array.min()) - 1\n",
    "\n",
    "def get_interpretation(mri_image,array):\n",
    "    normalized_array = normalize_11(array)\n",
    "    for i in range(len(normalized_array)):\n",
    "        mri_image[mri_image == i+1] = normalized_array[i]\n",
    "    \n",
    "    return mri_image\n",
    "\n",
    "mri_image = nib.load(file_path)\n",
    "image_data = mri_image.get_fdata()\n",
    "mri_image=get_interpretation(image_data,regressor2.coef_)\n",
    "\n",
    "slice1 = mri_image[mri_image.shape[0] // 2, :, :]\n",
    "slice2 = mri_image[:, mri_image.shape[1] // 2, :]\n",
    "slice3 = mri_image[:, :, mri_image.shape[2] // 2]\n",
    "\n",
    "cmap = plt.cm.bwr\n",
    "\n",
    "# Plot the slices\n",
    "fig, axes = plt.subplots(1, 3, figsize=(15, 5))\n",
    "axes[0].imshow(slice1, cmap=cmap)\n",
    "axes[0].set_title('Slice 1')\n",
    "axes[1].imshow(slice2, cmap=cmap)\n",
    "axes[1].set_title('Slice 2')\n",
    "axes[2].imshow(slice3, cmap=cmap)\n",
    "axes[2].set_title('Slice 3')\n",
    "plt.show()"
   ]
  },
  {
   "cell_type": "code",
   "execution_count": 20,
   "id": "a6d09952-c954-4df5-8640-eaf252229817",
   "metadata": {},
   "outputs": [
    {
     "data": {
      "text/plain": [
       "array([-0.0762944 ,  0.25283576,  0.07886457,  0.35807055, -0.0868274 ,\n",
       "        0.18215082, -0.1017433 ,  0.10224401, -0.34193756, -0.01752511,\n",
       "       -0.28702737,  0.06167826,  0.28718496,  0.45451632, -0.19114401,\n",
       "       -0.38011822, -0.18345368,  0.20151748,  0.04570057, -0.40150208,\n",
       "       -0.40893739, -0.05117201,  0.33384084, -0.42206425, -0.45447841,\n",
       "       -1.        , -0.33300797, -0.00927796,  0.16362964, -0.59813007,\n",
       "        0.07690692, -0.0602627 , -0.15064162, -0.02824758,  0.36462199,\n",
       "        0.32670068, -0.12128327,  0.30257516,  0.24935679, -0.40375384,\n",
       "       -0.80904555,  0.97956736, -0.15633338, -0.41156099, -0.12173325,\n",
       "        1.        , -0.21856621, -0.05385652, -0.08144591, -0.04563207,\n",
       "       -0.03739814, -0.02694582, -0.64970284,  0.21335738, -0.21856224,\n",
       "       -0.21999471,  0.30055391,  0.17486421, -0.37016017, -0.13551216,\n",
       "        0.31153264, -0.7796531 ,  0.01479561,  0.11736296, -0.47475884,\n",
       "       -0.52311251,  0.34084554,  0.16814337,  0.31139605, -0.02515314,\n",
       "       -0.36237917,  0.09035354, -0.46152774, -0.68701147, -0.7401388 ,\n",
       "        0.28908209,  0.09017865])"
      ]
     },
     "execution_count": 20,
     "metadata": {},
     "output_type": "execute_result"
    }
   ],
   "source": [
    "normalize_11(regressor0.coef_)"
   ]
  },
  {
   "cell_type": "code",
   "execution_count": 21,
   "id": "f46587ad-9bc2-4fef-ac15-89614ba54ad2",
   "metadata": {},
   "outputs": [
    {
     "data": {
      "text/plain": [
       "array([ 0.0501408 , -0.11263562, -0.03316076, -0.23565521, -0.24432075,\n",
       "       -0.11551313,  0.18094616, -0.21184217,  0.23284666, -0.19443398,\n",
       "        0.34892965, -0.10724809, -0.32467041, -0.30493031,  0.28518372,\n",
       "        0.44238054,  0.18484627, -0.23496527, -0.10053566,  0.22138728,\n",
       "        0.30093948,  0.0265521 , -0.47716676,  0.61672169,  0.70543755,\n",
       "        1.        ,  0.35414463, -0.08570028, -0.15567838,  0.64205052,\n",
       "       -0.35583439,  0.16165324,  0.10410021,  0.43316408, -0.26967164,\n",
       "       -0.19022307,  0.01825157, -0.23435744, -0.32989143,  0.44933304,\n",
       "        0.98304998, -0.68861906,  0.10161763,  0.5782797 ,  0.07192614,\n",
       "       -1.        , -0.02624203,  0.14406069,  0.31027897, -0.00260007,\n",
       "        0.12296379, -0.18278657,  0.36671249, -0.22081127,  0.27275682,\n",
       "        0.07019183, -0.11543211, -0.16612108,  0.50167841,  0.06563526,\n",
       "       -0.37185285,  0.49474733,  0.17264157, -0.18047454,  0.43673554,\n",
       "        0.41050268, -0.18791167, -0.14981003, -0.11183218, -0.13464407,\n",
       "        0.09961531, -0.06760213,  0.49963311,  0.55686256,  0.91151559,\n",
       "       -0.48515251, -0.21931374])"
      ]
     },
     "execution_count": 21,
     "metadata": {},
     "output_type": "execute_result"
    }
   ],
   "source": [
    "normalize_11(regressor2.coef_)"
   ]
  },
  {
   "cell_type": "code",
   "execution_count": 26,
   "id": "94dc6065-7e93-4246-bce4-0cf3db5aeea1",
   "metadata": {},
   "outputs": [
    {
     "data": {
      "text/plain": [
       "array([2., 2., 2., ..., 2., 2., 2.])"
      ]
     },
     "execution_count": 26,
     "metadata": {},
     "output_type": "execute_result"
    }
   ],
   "source": [
    "mri_image = nib.load(file_path)\n",
    "image_data = mri_image.get_fdata()\n",
    "image_data[image_data==2]"
   ]
  },
  {
   "cell_type": "markdown",
   "id": "fa185c5e-7f9c-4424-a4ca-b0bf268c4de4",
   "metadata": {},
   "source": [
    "## Visualize the model"
   ]
  },
  {
   "cell_type": "code",
   "execution_count": null,
   "id": "7bf1e08e-d09b-4427-8207-5bb0af193ce9",
   "metadata": {},
   "outputs": [
    {
     "name": "stdout",
     "output_type": "stream",
     "text": [
      "----------------------------------------------------------------\n",
      "        Layer (type)               Output Shape         Param #\n",
      "================================================================\n",
      "            Conv3d-1    [-1, 64, 256, 128, 128]           9,408\n",
      "       BatchNorm3d-2    [-1, 64, 256, 128, 128]             128\n",
      "              ReLU-3    [-1, 64, 256, 128, 128]               0\n",
      "            Conv3d-4    [-1, 64, 256, 128, 128]         110,592\n",
      "       BatchNorm3d-5    [-1, 64, 256, 128, 128]             128\n",
      "              ReLU-6    [-1, 64, 256, 128, 128]               0\n",
      "            Conv3d-7    [-1, 64, 256, 128, 128]         110,592\n",
      "       BatchNorm3d-8    [-1, 64, 256, 128, 128]             128\n",
      " AdaptiveAvgPool3d-9          [-1, 64, 1, 1, 1]               0\n",
      "           Linear-10                    [-1, 4]             256\n",
      "             ReLU-11                    [-1, 4]               0\n",
      "           Linear-12                   [-1, 64]             256\n",
      "          Sigmoid-13                   [-1, 64]               0\n",
      "          SEBlock-14    [-1, 64, 256, 128, 128]               0\n",
      "             ReLU-15    [-1, 64, 256, 128, 128]               0\n",
      "     SEBasicBlock-16    [-1, 64, 256, 128, 128]               0\n",
      "           Conv3d-17     [-1, 128, 128, 64, 64]         221,184\n",
      "      BatchNorm3d-18     [-1, 128, 128, 64, 64]             256\n",
      "             ReLU-19     [-1, 128, 128, 64, 64]               0\n",
      "           Conv3d-20     [-1, 128, 128, 64, 64]         442,368\n",
      "      BatchNorm3d-21     [-1, 128, 128, 64, 64]             256\n",
      "AdaptiveAvgPool3d-22         [-1, 128, 1, 1, 1]               0\n",
      "           Linear-23                    [-1, 8]           1,024\n",
      "             ReLU-24                    [-1, 8]               0\n",
      "           Linear-25                  [-1, 128]           1,024\n",
      "          Sigmoid-26                  [-1, 128]               0\n",
      "          SEBlock-27     [-1, 128, 128, 64, 64]               0\n",
      "           Conv3d-28     [-1, 128, 128, 64, 64]           8,192\n",
      "      BatchNorm3d-29     [-1, 128, 128, 64, 64]             256\n",
      "             ReLU-30     [-1, 128, 128, 64, 64]               0\n",
      "     SEBasicBlock-31     [-1, 128, 128, 64, 64]               0\n",
      "           Conv3d-32      [-1, 256, 64, 32, 32]         884,736\n",
      "      BatchNorm3d-33      [-1, 256, 64, 32, 32]             512\n",
      "             ReLU-34      [-1, 256, 64, 32, 32]               0\n",
      "           Conv3d-35      [-1, 256, 64, 32, 32]       1,769,472\n",
      "      BatchNorm3d-36      [-1, 256, 64, 32, 32]             512\n",
      "AdaptiveAvgPool3d-37         [-1, 256, 1, 1, 1]               0\n",
      "           Linear-38                   [-1, 16]           4,096\n",
      "             ReLU-39                   [-1, 16]               0\n",
      "           Linear-40                  [-1, 256]           4,096\n",
      "          Sigmoid-41                  [-1, 256]               0\n",
      "          SEBlock-42      [-1, 256, 64, 32, 32]               0\n",
      "           Conv3d-43      [-1, 256, 64, 32, 32]          32,768\n",
      "      BatchNorm3d-44      [-1, 256, 64, 32, 32]             512\n",
      "             ReLU-45      [-1, 256, 64, 32, 32]               0\n",
      "     SEBasicBlock-46      [-1, 256, 64, 32, 32]               0\n",
      "           Conv3d-47      [-1, 512, 32, 16, 16]       3,538,944\n",
      "      BatchNorm3d-48      [-1, 512, 32, 16, 16]           1,024\n",
      "             ReLU-49      [-1, 512, 32, 16, 16]               0\n",
      "           Conv3d-50      [-1, 512, 32, 16, 16]       7,077,888\n",
      "      BatchNorm3d-51      [-1, 512, 32, 16, 16]           1,024\n",
      "AdaptiveAvgPool3d-52         [-1, 512, 1, 1, 1]               0\n",
      "           Linear-53                   [-1, 32]          16,384\n",
      "             ReLU-54                   [-1, 32]               0\n",
      "           Linear-55                  [-1, 512]          16,384\n",
      "          Sigmoid-56                  [-1, 512]               0\n",
      "          SEBlock-57      [-1, 512, 32, 16, 16]               0\n",
      "           Conv3d-58      [-1, 512, 32, 16, 16]         131,072\n",
      "      BatchNorm3d-59      [-1, 512, 32, 16, 16]           1,024\n",
      "             ReLU-60      [-1, 512, 32, 16, 16]               0\n",
      "     SEBasicBlock-61      [-1, 512, 32, 16, 16]               0\n",
      "AdaptiveAvgPool3d-62         [-1, 512, 1, 1, 1]               0\n",
      "           Linear-63                    [-1, 3]           1,539\n",
      "================================================================\n",
      "Total params: 14,388,035\n",
      "Trainable params: 14,388,035\n",
      "Non-trainable params: 0\n",
      "----------------------------------------------------------------\n",
      "Input size (MB): 64.00\n",
      "Forward/backward pass size (MB): 3519.97\n",
      "Params size (MB): 54.89\n",
      "Estimated Total Size (MB): 3638.86\n",
      "----------------------------------------------------------------\n"
     ]
    },
    {
     "name": "stderr",
     "output_type": "stream",
     "text": [
      "D:\\Software\\Anaconda3\\envs\\pytorch\\lib\\site-packages\\torchsummary\\torchsummary.py:93: RuntimeWarning: overflow encountered in long_scalars\n",
      "  total_output += np.prod(summary[layer][\"output_shape\"])\n"
     ]
    }
   ],
   "source": [
    "from torchsummary import summary\n",
    "\n",
    "summary(model,(1,256,256,256),device='cuda')"
   ]
  },
  {
   "cell_type": "code",
   "execution_count": null,
   "id": "f03abf07-b8a2-46d5-ae4b-750cf1531e4e",
   "metadata": {},
   "outputs": [],
   "source": []
  }
 ],
 "metadata": {
  "kernelspec": {
   "display_name": "Python 3 (ipykernel)",
   "language": "python",
   "name": "python3"
  },
  "language_info": {
   "codemirror_mode": {
    "name": "ipython",
    "version": 3
   },
   "file_extension": ".py",
   "mimetype": "text/x-python",
   "name": "python",
   "nbconvert_exporter": "python",
   "pygments_lexer": "ipython3",
   "version": "3.8.13"
  }
 },
 "nbformat": 4,
 "nbformat_minor": 5
}
